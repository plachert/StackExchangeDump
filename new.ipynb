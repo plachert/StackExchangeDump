{
 "cells": [
  {
   "cell_type": "code",
   "execution_count": 97,
   "metadata": {},
   "outputs": [],
   "source": [
    "from pyspark.sql import SparkSession\n",
    "from pyspark.sql import Row\n",
    "\n",
    "spark = SparkSession.builder \\\n",
    "    .appName('DataFrame') \\\n",
    "    .master('local[*]') \\\n",
    "    .getOrCreate()"
   ]
  },
  {
   "cell_type": "code",
   "execution_count": 283,
   "metadata": {},
   "outputs": [],
   "source": [
    "# def users_to_json(spark_context, file):\n",
    "#     def json_lambda(line):\n",
    "#         json_line = {}\n",
    "# #         tags_list={'Id':lambda x: int(x[1:-2]),\n",
    "# #                    'Reputation':lambda x: int(x[1:-2]),\n",
    "# #                    'CreationDate':lambda x: str(x)[1:-2],\n",
    "# #                    'DisplayName':lambda x: str(x)[1:-2],\n",
    "# #                    'LastAccessDate':lambda x: str(x)[1:-2],\n",
    "# #                    'WebsiteUrl':lambda x: str(x)[1:-2],\n",
    "# #                    'Location':lambda x: str(x)[1:-2],\n",
    "# #                    'AboutMe':str,\n",
    "# #                    'Views':lambda x: int(x[1:-2]),\n",
    "# #                    'UpVotes':lambda x: int(x[1:-2]),\n",
    "# #                    'DownVotes':lambda x: int(x[1:-2]),\n",
    "# #                    'ProfileImageUrl':lambda x: str(x)[1:-2],\n",
    "# #                    'EmailHash':lambda x: str(x)[1:-2],\n",
    "# #                    'AccountId':lambda x: int(x[1:-2]),\n",
    "# #                    'Age':lambda x: float(x[1:-2])}\n",
    "#         tags_list={'Id':str,\n",
    "#                    'Reputation':str,\n",
    "#                    'CreationDate':str,\n",
    "#                    'DisplayName':str,\n",
    "#                    'LastAccessDate':str,\n",
    "#                    'WebsiteUrl':str,\n",
    "#                    'Location':str,\n",
    "#                    'AboutMe':str,\n",
    "#                    'Views':str,\n",
    "#                    'UpVotes':str,\n",
    "#                    'DownVotes':str,\n",
    "#                    'ProfileImageUrl':str,\n",
    "#                    'EmailHash':str,\n",
    "#                    'AccountId':str,\n",
    "#                    'Age':str}\n",
    "#         indices = [line.find(tag,0) for tag in tags_list if line.find(tag,0)!=-1]\n",
    "#         for i in range(len(indices)-1):\n",
    "#             parsed = line[indices[i]:indices[i+1]].split('=')\n",
    "#             try:\n",
    "#                 json_line[parsed[0]] = tags_list[parsed[0]](parsed[1])\n",
    "#             except ValueError:\n",
    "#                 json_line[parsed[0]] = tags_list[parsed[0]](parsed[1][1:-2])\n",
    "#         all_keys_json = {}\n",
    "#         for tag in tags_list:\n",
    "#             try:\n",
    "#                 all_keys_json[tag] = json_line[tag]\n",
    "#             except KeyError:\n",
    "#                 all_keys_json[tag] = None\n",
    "#         return all_keys_json\n",
    "#     text = spark_context.textFile(file)\n",
    "#     text = spark.sparkContext.textFile('Users.xml')\n",
    "#     usersRDD = text.filter(filter_crap)\n",
    "#     usersRDD = usersRDD.map(json_lambda)\n",
    "#     return usersRDD\n",
    "\n"
   ]
  },
  {
   "cell_type": "code",
   "execution_count": null,
   "metadata": {},
   "outputs": [],
   "source": [
    "def users_to_json(spark_context, file):\n",
    "    def json_lambda(line):\n",
    "        json_line = {}\n",
    "        tags_list={'Id':str,\n",
    "                   'Reputation':str,\n",
    "                   'CreationDate':str,\n",
    "                   'DisplayName':str,\n",
    "                   'LastAccessDate':str,\n",
    "                   'WebsiteUrl':str,\n",
    "                   'Location':str,\n",
    "                   'AboutMe':str,\n",
    "                   'Views':str,\n",
    "                   'UpVotes':str,\n",
    "                   'DownVotes':str,\n",
    "                   'ProfileImageUrl':str,\n",
    "                   'EmailHash':str,\n",
    "                   'AccountId':str,\n",
    "                   'Age':str}\n",
    "        indices = [line.find(tag,0) for tag in tags_list if line.find(tag,0)!=-1]\n",
    "        for i in range(len(indices)-1):\n",
    "            parsed = line[indices[i]:indices[i+1]].split('=')\n",
    "            try:\n",
    "                json_line[parsed[0]] = tags_list[parsed[0]](parsed[1])\n",
    "            except ValueError:\n",
    "                json_line[parsed[0]] = tags_list[parsed[0]](parsed[1][1:-2])\n",
    "        all_keys_json = {}\n",
    "        for tag in tags_list:\n",
    "            try:\n",
    "                all_keys_json[tag] = json_line[tag]\n",
    "            except KeyError:\n",
    "                all_keys_json[tag] = None\n",
    "        return all_keys_json\n",
    "    text = spark_context.textFile(file)\n",
    "    text = spark.sparkContext.textFile('Users.xml')\n",
    "    usersRDD = text.filter(filter_crap)\n",
    "    usersRDD = usersRDD.map(json_lambda)\n",
    "    return usersRDD\n"
   ]
  },
  {
   "cell_type": "code",
   "execution_count": 284,
   "metadata": {},
   "outputs": [],
   "source": [
    "def filter_crap(s):\n",
    "    if s.startswith(\"<?xml version=\") or s==\"<users>\" or s==\"</users>\":\n",
    "        return False\n",
    "    else:\n",
    "        return True\n",
    "    \n",
    "text = spark.sparkContext.textFile('Users.xml')\n",
    "usersRDD = text.filter(filter_crap)"
   ]
  },
  {
   "cell_type": "code",
   "execution_count": 304,
   "metadata": {},
   "outputs": [],
   "source": [
    "from xml.etree.ElementTree import fromstring\n",
    "def sth(s):\n",
    "    tree = fromstring(s)\n",
    "    return tree.items()\n",
    "new=usersRDD.map(sth)"
   ]
  },
  {
   "cell_type": "code",
   "execution_count": 308,
   "metadata": {},
   "outputs": [],
   "source": [
    "from pyspark.sql.types import *\n",
    "usersSchema = StructType([ \\\n",
    "    StructField(\"Id\", StringType(), True), \\\n",
    "    StructField(\"Reputation\", StringType(), True), \\\n",
    "    StructField(\"CreationDate\", StringType(), True), \\\n",
    "    StructField(\"DisplayName\", StringType(), True), \\\n",
    "    StructField(\"LastAccessDate\", StringType(), True), \\\n",
    "    StructField(\"WebsiteUrl\", StringType(), True), \\\n",
    "    StructField(\"Location\", StringType(), True), \\\n",
    "    StructField(\"AboutMe\", StringType(), True), \\\n",
    "    StructField(\"Views\", StringType(), True), \\\n",
    "    StructField(\"UpVotes\", StringType(), True),\n",
    "    StructField(\"DownVotes\", StringType(), True), \\\n",
    "    StructField(\"ProfileImageUrl\", StringType(), True), \\\n",
    "    StructField(\"EmailHash\", StringType(), True), \\\n",
    "    StructField(\"AccountId\", StringType(), True), \\\n",
    "    StructField(\"Age\", StringType(), True)])"
   ]
  },
  {
   "cell_type": "code",
   "execution_count": 313,
   "metadata": {},
   "outputs": [],
   "source": [
    "df = new.map(lambda x: Row(**x))\n",
    "#df = df.toDF(schema=usersSchema)"
   ]
  },
  {
   "cell_type": "code",
   "execution_count": 315,
   "metadata": {},
   "outputs": [
    {
     "data": {
      "text/plain": [
       "[[('Id', '-1'),\n",
       "  ('Reputation', '1'),\n",
       "  ('CreationDate', '2016-01-11T22:16:50.167'),\n",
       "  ('DisplayName', 'Community'),\n",
       "  ('LastAccessDate', '2016-01-11T22:16:50.167'),\n",
       "  ('Location', 'on the server farm'),\n",
       "  ('AboutMe',\n",
       "   '<p>Hi, I\\'m not really a person.</p>\\r\\n<p>I\\'m a background process that helps keep this site clean!</p>\\r\\n<p>I do things like</p>\\r\\n<ul>\\r\\n<li>Randomly poke old unanswered questions every hour so they get some attention</li>\\r\\n<li>Own community questions and answers so nobody gets unnecessary reputation from them</li>\\r\\n<li>Own downvotes on spam/evil posts that get permanently deleted</li>\\r\\n<li>Own suggested edits from anonymous users</li>\\r\\n<li><a href=\"http://meta.stackoverflow.com/a/92006\">Remove abandoned questions</a></li>\\r\\n</ul>'),\n",
       "  ('Views', '72'),\n",
       "  ('UpVotes', '1'),\n",
       "  ('DownVotes', '0'),\n",
       "  ('AccountId', '-1')]]"
      ]
     },
     "execution_count": 315,
     "metadata": {},
     "output_type": "execute_result"
    }
   ],
   "source": [
    "new.take(1)"
   ]
  },
  {
   "cell_type": "code",
   "execution_count": 276,
   "metadata": {},
   "outputs": [],
   "source": [
    "a = users_to_json(spark.sparkContext, 'Users.xml')"
   ]
  },
  {
   "cell_type": "code",
   "execution_count": 277,
   "metadata": {},
   "outputs": [],
   "source": [
    "from pyspark.sql.types import *\n",
    "usersSchema = StructType([ \\\n",
    "    StructField(\"Id\", StringType(), True), \\\n",
    "#     StructField(\"Reputation\", StringType(), True), \\\n",
    "#     StructField(\"CreationDate\", StringType(), True), \\\n",
    "#     StructField(\"DisplayName\", StringType(), True), \\\n",
    "#     StructField(\"LastAccessDate\", StringType(), True), \\\n",
    "#     StructField(\"WebsiteUrl\", StringType(), True), \\\n",
    "#     StructField(\"Location\", StringType(), True), \\\n",
    "#     StructField(\"AboutMe\", StringType(), True), \\\n",
    "#     StructField(\"Views\", StringType(), True), \\\n",
    "#     StructField(\"UpVotes\", StringType(), True),\n",
    "#     StructField(\"DownVotes\", StringType(), True), \\\n",
    "#     #StructField(\"ProfileImageUrl\", StringType(), True), \\\n",
    "#     StructField(\"EmailHash\", StringType(), True), \\\n",
    "#     StructField(\"AccountId\", StringType(), True), \\\n",
    "    StructField(\"Age\", StringType(), True)])"
   ]
  },
  {
   "cell_type": "code",
   "execution_count": 278,
   "metadata": {},
   "outputs": [],
   "source": [
    "df = a.map(lambda x: Row(**x))"
   ]
  },
  {
   "cell_type": "code",
   "execution_count": 279,
   "metadata": {},
   "outputs": [],
   "source": [
    "df = df.toDF(schema=usersSchema)"
   ]
  },
  {
   "cell_type": "code",
   "execution_count": 280,
   "metadata": {},
   "outputs": [
    {
     "data": {
      "text/plain": [
       "Column<b'Id'>"
      ]
     },
     "execution_count": 280,
     "metadata": {},
     "output_type": "execute_result"
    }
   ],
   "source": [
    "df['Id']"
   ]
  },
  {
   "cell_type": "code",
   "execution_count": null,
   "metadata": {},
   "outputs": [],
   "source": []
  },
  {
   "cell_type": "code",
   "execution_count": 282,
   "metadata": {},
   "outputs": [
    {
     "data": {
      "text/plain": [
       "[Row(Id='\"-1\" ', Age=None),\n",
       " Row(Id='\"1\" ', Age=None),\n",
       " Row(Id='\"2\" ', Age=None),\n",
       " Row(Id='\"3\" ', Age=None),\n",
       " Row(Id='\"4\" ', Age=None),\n",
       " Row(Id='\"5\" ', Age=None),\n",
       " Row(Id='\"7\" ', Age=None),\n",
       " Row(Id='\"9\" ', Age=None),\n",
       " Row(Id='\"10\" ', Age=None),\n",
       " Row(Id='\"11\" ', Age=None)]"
      ]
     },
     "execution_count": 282,
     "metadata": {},
     "output_type": "execute_result"
    }
   ],
   "source": [
    "df.take(10)"
   ]
  },
  {
   "cell_type": "code",
   "execution_count": null,
   "metadata": {},
   "outputs": [],
   "source": []
  },
  {
   "cell_type": "code",
   "execution_count": null,
   "metadata": {},
   "outputs": [],
   "source": []
  }
 ],
 "metadata": {
  "kernelspec": {
   "display_name": "Python 3",
   "language": "python",
   "name": "python3"
  },
  "language_info": {
   "codemirror_mode": {
    "name": "ipython",
    "version": 3
   },
   "file_extension": ".py",
   "mimetype": "text/x-python",
   "name": "python",
   "nbconvert_exporter": "python",
   "pygments_lexer": "ipython3",
   "version": "3.7.1"
  }
 },
 "nbformat": 4,
 "nbformat_minor": 2
}
