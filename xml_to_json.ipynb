{
 "cells": [
  {
   "cell_type": "code",
   "execution_count": 3,
   "metadata": {},
   "outputs": [],
   "source": [
    "from pyspark.sql import SparkSession\n",
    "from pyspark.sql import Row\n",
    "\n",
    "spark = SparkSession.builder \\\n",
    "    .appName('DataFrame') \\\n",
    "    .master('local[*]') \\\n",
    "    .getOrCreate()"
   ]
  },
  {
   "cell_type": "code",
   "execution_count": 2,
   "metadata": {},
   "outputs": [],
   "source": [
    "def users_to_json(spark_context, file):\n",
    "    def json_lambda(line):\n",
    "        json_line = {}\n",
    "        tags_list={'Id':int,\n",
    "                   'Reputation':int,\n",
    "                   'CreationDate':str,\n",
    "                   'DisplayName':str,\n",
    "                   'LastAccessDate':str,\n",
    "                   'WebsiteUrl':str,\n",
    "                   'Location':str,\n",
    "                   'AboutMe':str,\n",
    "                   'Views':int,\n",
    "                   'UpVotes':int,\n",
    "                   'DownVotes':int,\n",
    "                   'EmailHash':str,\n",
    "                   'AccountId':int,\n",
    "                   'Age':float}\n",
    "        indices = [line.find(tag,0) for tag in tags_list if line.find(tag,0)!=-1]\n",
    "        for i in range(len(indices)-1):\n",
    "            parsed = line[indices[i]:indices[i+1]].split('=')\n",
    "            if parsed[0] == 'Id':\n",
    "                try:\n",
    "                    json_line[parsed[0]] = tags_list[parsed[0]](parsed[1])\n",
    "                except ValueError:\n",
    "                    json_line[parsed[0]] = tags_list[parsed[0]](parsed[1][1:-2])\n",
    "        return json_line\n",
    "    usersRDD = spark_context.textFile(file)\n",
    "    headers = usersRDD.take(2)\n",
    "    usersRDD = usersRDD.filter(lambda x: x not in  headers)\n",
    "    usersRDD = usersRDD.map(json_lambda)\n",
    "    return usersRDD\n",
    "\n"
   ]
  },
  {
   "cell_type": "code",
   "execution_count": 9,
   "metadata": {},
   "outputs": [
    {
     "name": "stdout",
     "output_type": "stream",
     "text": [
      "aviation\n",
      "conlang\n",
      "quantumcomputing\n"
     ]
    }
   ],
   "source": [
    "import re\n",
    "data_path = '/home/piotr/big_data/archive.org/download/stackexchange/'\n",
    "import os\n",
    "def get_immediate_subdirectories(a_dir):\n",
    "    return [name for name in os.listdir(a_dir)\n",
    "            if os.path.isdir(os.path.join(a_dir, name))]\n",
    "\n",
    "subdirs = get_immediate_subdirectories(data_path)\n",
    "for subdir in subdirs:\n",
    "    if not re.search('meta', subdir):\n",
    "        try:\n",
    "            RDD_json = users_to_json(spark.sparkContext, data_path + subdir + '/Users.xml')\n",
    "            name = subdir.split('.')[0]\n",
    "            RDD_json.saveAsTextFile('./jsons/' + name)\n",
    "        except:\n",
    "            print(name)\n",
    "        "
   ]
  },
  {
   "cell_type": "code",
   "execution_count": null,
   "metadata": {},
   "outputs": [],
   "source": []
  }
 ],
 "metadata": {
  "kernelspec": {
   "display_name": "Python 3",
   "language": "python",
   "name": "python3"
  },
  "language_info": {
   "codemirror_mode": {
    "name": "ipython",
    "version": 3
   },
   "file_extension": ".py",
   "mimetype": "text/x-python",
   "name": "python",
   "nbconvert_exporter": "python",
   "pygments_lexer": "ipython3",
   "version": "3.7.1"
  }
 },
 "nbformat": 4,
 "nbformat_minor": 2
}
