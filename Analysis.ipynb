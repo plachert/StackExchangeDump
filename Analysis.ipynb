{
 "cells": [
  {
   "cell_type": "code",
   "execution_count": 1,
   "metadata": {},
   "outputs": [],
   "source": [
    "import os\n",
    "os.environ['PYSPARK_PYTHON'] = '/home/hduser/anaconda3/bin/python'"
   ]
  },
  {
   "cell_type": "code",
   "execution_count": 2,
   "metadata": {},
   "outputs": [],
   "source": [
    "from pyspark import SparkConf\n",
    "from pyspark.sql import SparkSession\n",
    "from pyspark.sql.functions import col\n",
    "from file_parsers import parse_badges, parse_posts, parse_comments, parse_users,\\\n",
    "    parse_posthistory, parse_postlinks, parse_votes, parse_tags"
   ]
  },
  {
   "cell_type": "code",
   "execution_count": 3,
   "metadata": {},
   "outputs": [],
   "source": [
    "spark = SparkSession.builder \\\n",
    "    .appName('StackExchange') \\\n",
    "    .master('yarn-client') \\\n",
    "    .getOrCreate()\n",
    "sc = spark.sparkContext\n",
    "sc.addPyFile('parser_utils.py')"
   ]
  },
  {
   "cell_type": "code",
   "execution_count": null,
   "metadata": {},
   "outputs": [],
   "source": []
  },
  {
   "cell_type": "markdown",
   "metadata": {},
   "source": [
    "# Data Loading"
   ]
  },
  {
   "cell_type": "code",
   "execution_count": 4,
   "metadata": {},
   "outputs": [],
   "source": [
    "# stack = '/home/piotr/big_data/archive.org/download/stackexchange/'\n",
    "# #subject = 'meta.stackoverflow.com/'\n",
    "# subject = 'gardening.stackexchange.com/'\n",
    "path = 'StackOverflowDump/'#stack + subject"
   ]
  },
  {
   "cell_type": "code",
   "execution_count": 5,
   "metadata": {},
   "outputs": [],
   "source": [
    "badges = parse_badges(sc, path + 'Badges.xml')\n",
    "posts = parse_posts(sc, path + 'Posts.xml')\n",
    "comments = parse_comments(sc, path + 'Comments.xml')\n",
    "users = parse_users(sc, path + 'Users.xml')\n",
    "posthistory = parse_posthistory(sc, path + 'PostHistory.xml')\n",
    "postlinks = parse_postlinks(sc, path + 'PostLinks.xml')\n",
    "votes = parse_votes(sc, path + 'Votes.xml')\n",
    "tags = parse_tags(sc, path + 'Tags.xml')"
   ]
  },
  {
   "cell_type": "markdown",
   "metadata": {},
   "source": [
    "# Posts"
   ]
  },
  {
   "cell_type": "code",
   "execution_count": 6,
   "metadata": {},
   "outputs": [
    {
     "name": "stdout",
     "output_type": "stream",
     "text": [
      "root\n",
      " |-- Id: float (nullable = true)\n",
      " |-- PostTypeId: float (nullable = true)\n",
      " |-- ParentId: float (nullable = true)\n",
      " |-- AcceptedAnswerId: float (nullable = true)\n",
      " |-- CreationDate: string (nullable = true)\n",
      " |-- Score: float (nullable = true)\n",
      " |-- ViewCount: float (nullable = true)\n",
      " |-- Body: string (nullable = true)\n",
      " |-- OwnerUserId: float (nullable = true)\n",
      " |-- LastEditorUserId: float (nullable = true)\n",
      " |-- LastEditorDisplayName: string (nullable = true)\n",
      " |-- LastEditDate: string (nullable = true)\n",
      " |-- LastActivityDate: string (nullable = true)\n",
      " |-- CommunityOwnedDate: string (nullable = true)\n",
      " |-- ClosedDate: string (nullable = true)\n",
      " |-- Title: string (nullable = true)\n",
      " |-- Tags: string (nullable = true)\n",
      " |-- AnswerCount: float (nullable = true)\n",
      " |-- CommentCount: float (nullable = true)\n",
      " |-- FavoriteCount: float (nullable = true)\n",
      "\n"
     ]
    }
   ],
   "source": [
    "posts.printSchema()"
   ]
  },
  {
   "cell_type": "code",
   "execution_count": 7,
   "metadata": {},
   "outputs": [],
   "source": [
    "posts_filtered = posts.select(col('Id').cast('integer'), \\\n",
    "                             col('PostTypeId').cast('integer'), \\\n",
    "                             col('ParentId').cast('integer'), \\\n",
    "                             col('CreationDate').cast('timestamp'),\n",
    "                             col('AnswerCount').cast('integer'))"
   ]
  },
  {
   "cell_type": "code",
   "execution_count": 8,
   "metadata": {},
   "outputs": [
    {
     "data": {
      "text/plain": [
       "[Row(Id=1, PostTypeId=1, ParentId=None, CreationDate=datetime.datetime(2013, 9, 24, 19, 4, 6, 940000), AnswerCount=3),\n",
       " Row(Id=2, PostTypeId=1, ParentId=None, CreationDate=datetime.datetime(2013, 9, 24, 19, 5, 22, 893000), AnswerCount=3),\n",
       " Row(Id=3, PostTypeId=2, ParentId=2, CreationDate=datetime.datetime(2013, 9, 24, 19, 13, 39, 430000), AnswerCount=None)]"
      ]
     },
     "execution_count": 8,
     "metadata": {},
     "output_type": "execute_result"
    }
   ],
   "source": [
    "posts_filtered.head(3)"
   ]
  },
  {
   "cell_type": "code",
   "execution_count": 9,
   "metadata": {},
   "outputs": [
    {
     "name": "stdout",
     "output_type": "stream",
     "text": [
      "+----------+-----+\n",
      "|PostTypeId|count|\n",
      "+----------+-----+\n",
      "|         1|  179|\n",
      "|         5|    1|\n",
      "|         4|    1|\n",
      "|         2|  254|\n",
      "+----------+-----+\n",
      "\n"
     ]
    }
   ],
   "source": [
    "posts_filtered.groupBy('PostTypeId').count().show()"
   ]
  },
  {
   "cell_type": "markdown",
   "metadata": {},
   "source": [
    "## ile pytań bez odpowiedzi"
   ]
  },
  {
   "cell_type": "code",
   "execution_count": 10,
   "metadata": {},
   "outputs": [
    {
     "data": {
      "text/plain": [
       "30"
      ]
     },
     "execution_count": 10,
     "metadata": {},
     "output_type": "execute_result"
    }
   ],
   "source": [
    "posts_filtered.filter(col('AnswerCount')==0).count()"
   ]
  },
  {
   "cell_type": "markdown",
   "metadata": {},
   "source": [
    "## rozkład czasu pierwszej odpowiedzi"
   ]
  },
  {
   "cell_type": "code",
   "execution_count": 11,
   "metadata": {},
   "outputs": [],
   "source": [
    "questions = posts_filtered.filter(col('PostTypeId')==1)\n",
    "answers = posts_filtered.filter(col('PostTypeId')==2)"
   ]
  },
  {
   "cell_type": "code",
   "execution_count": 12,
   "metadata": {},
   "outputs": [
    {
     "name": "stdout",
     "output_type": "stream",
     "text": [
      "+---+----------+--------+--------------------+-----------+\n",
      "| Id|PostTypeId|ParentId|        CreationDate|AnswerCount|\n",
      "+---+----------+--------+--------------------+-----------+\n",
      "|  1|         1|    null|2013-09-24 19:04:...|          3|\n",
      "|  2|         1|    null|2013-09-24 19:05:...|          3|\n",
      "|  6|         1|    null|2013-09-24 19:46:...|          2|\n",
      "| 10|         1|    null|2013-09-24 19:56:...|          7|\n",
      "| 13|         1|    null|2013-09-24 20:22:...|          7|\n",
      "+---+----------+--------+--------------------+-----------+\n",
      "only showing top 5 rows\n",
      "\n"
     ]
    }
   ],
   "source": [
    "questions.show(5)"
   ]
  },
  {
   "cell_type": "code",
   "execution_count": 13,
   "metadata": {},
   "outputs": [
    {
     "name": "stdout",
     "output_type": "stream",
     "text": [
      "+---+----------+--------+--------------------+-----------+\n",
      "| Id|PostTypeId|ParentId|        CreationDate|AnswerCount|\n",
      "+---+----------+--------+--------------------+-----------+\n",
      "|  3|         2|       2|2013-09-24 19:13:...|       null|\n",
      "|  4|         2|       1|2013-09-24 19:33:...|       null|\n",
      "|  5|         2|       1|2013-09-24 19:42:...|       null|\n",
      "|  7|         2|       2|2013-09-24 19:48:...|       null|\n",
      "|  8|         2|       1|2013-09-24 19:53:...|       null|\n",
      "+---+----------+--------+--------------------+-----------+\n",
      "only showing top 5 rows\n",
      "\n"
     ]
    }
   ],
   "source": [
    "answers.show(5)"
   ]
  },
  {
   "cell_type": "code",
   "execution_count": null,
   "metadata": {},
   "outputs": [],
   "source": [
    "from pyspark.sql import functions as F\n",
    "first_answers = answers.groupBy('ParentId').agg(F.min(answers.CreationDate))\n",
    "first_answers.show(5)"
   ]
  },
  {
   "cell_type": "code",
   "execution_count": null,
   "metadata": {},
   "outputs": [],
   "source": [
    "#cos aliasami\n",
    "from pyspark.sql.functions import unix_timestamp\n",
    "df_as1 = questions.alias(\"questions\")\n",
    "df_as2 = first_answers.alias(\"first_answers\")\n",
    "joined = df_as1.join(df_as2, col(\"questions.Id\") == col(\"first_answers.ParentId\"), 'inner')\n",
    "questions_time = joined.select(col('Id'), col('CreationDate'), col('min(CreationDate)'))\n",
    "diff = questions_time.withColumn('diff', (unix_timestamp(col('min(CreationDate)'))-unix_timestamp(col('CreationDate')))/60)\n",
    "first_answer_time = diff.select(col('Id'), col('diff'))\n",
    "first_answer_time_pandas = first_answer_time.toPandas()"
   ]
  },
  {
   "cell_type": "code",
   "execution_count": null,
   "metadata": {},
   "outputs": [],
   "source": [
    "first_answer_time_pandas[first_answer_time_pandas['diff']<1]['diff']"
   ]
  },
  {
   "cell_type": "code",
   "execution_count": null,
   "metadata": {},
   "outputs": [],
   "source": [
    "#rozklad czasu od pytania do pierwszej odpowiedzi (ograniczony do pierwszej doby)\n",
    "sns.boxplot(first_answer_time_pandas[first_answer_time_pandas['diff']<60*24]['diff'])\n"
   ]
  },
  {
   "cell_type": "code",
   "execution_count": null,
   "metadata": {},
   "outputs": [],
   "source": [
    "#df_as1.join(df_as2, df_as1['Id'] == df_as2['ParentId'], 'inner').show()"
   ]
  },
  {
   "cell_type": "code",
   "execution_count": null,
   "metadata": {},
   "outputs": [],
   "source": [
    "df_as2"
   ]
  },
  {
   "cell_type": "markdown",
   "metadata": {},
   "source": [
    "# Data Exploration"
   ]
  },
  {
   "cell_type": "markdown",
   "metadata": {},
   "source": [
    "## Badges"
   ]
  },
  {
   "cell_type": "code",
   "execution_count": null,
   "metadata": {},
   "outputs": [],
   "source": [
    "tags.take(2)"
   ]
  },
  {
   "cell_type": "code",
   "execution_count": null,
   "metadata": {},
   "outputs": [],
   "source": [
    "tags.sort('Count', ascending=False).show()"
   ]
  },
  {
   "cell_type": "code",
   "execution_count": null,
   "metadata": {},
   "outputs": [],
   "source": [
    "import matplotlib\n",
    "%matplotlib inline"
   ]
  },
  {
   "cell_type": "code",
   "execution_count": null,
   "metadata": {},
   "outputs": [],
   "source": [
    "posts_time = posts.select([col('CreationDate').cast('date'), col('AnswerCount'), col('CommentCount')])"
   ]
  },
  {
   "cell_type": "code",
   "execution_count": null,
   "metadata": {},
   "outputs": [],
   "source": [
    "posts_time.take(2)"
   ]
  },
  {
   "cell_type": "code",
   "execution_count": null,
   "metadata": {},
   "outputs": [],
   "source": [
    "from pyspark.sql.functions import month, year\n",
    "bitcoin_popularity = posts_time.groupBy(year('CreationDate')).count().toPandas()"
   ]
  },
  {
   "cell_type": "code",
   "execution_count": null,
   "metadata": {},
   "outputs": [],
   "source": [
    "bitcoin_popularity.cumsum().plot()"
   ]
  },
  {
   "cell_type": "code",
   "execution_count": null,
   "metadata": {},
   "outputs": [],
   "source": []
  }
 ],
 "metadata": {
  "kernelspec": {
   "display_name": "Python 3",
   "language": "python",
   "name": "python3"
  },
  "language_info": {
   "codemirror_mode": {
    "name": "ipython",
    "version": 3
   },
   "file_extension": ".py",
   "mimetype": "text/x-python",
   "name": "python",
   "nbconvert_exporter": "python",
   "pygments_lexer": "ipython3",
   "version": "3.6.5"
  }
 },
 "nbformat": 4,
 "nbformat_minor": 2
}
