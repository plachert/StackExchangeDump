{
 "cells": [
  {
   "cell_type": "code",
   "execution_count": 1,
   "metadata": {},
   "outputs": [],
   "source": [
    "from pyspark.sql import SparkSession\n",
    "from file_parsers import parse_badges, parse_posts, parse_comments, parse_users,\\\n",
    "    parse_posthistory, parse_postlinks, parse_votes"
   ]
  },
  {
   "cell_type": "code",
   "execution_count": 2,
   "metadata": {},
   "outputs": [],
   "source": [
    "spark = SparkSession.builder \\\n",
    "    .appName('StackExchange') \\\n",
    "    .master('local[*]') \\\n",
    "    .getOrCreate()\n",
    "sc = spark.sparkContext"
   ]
  },
  {
   "cell_type": "code",
   "execution_count": 3,
   "metadata": {},
   "outputs": [],
   "source": [
    "stack = '/home/piotr/big_data/archive.org/download/stackexchange/'\n",
    "subject = 'ai.stackexchange.com/'\n",
    "path = stack + subject"
   ]
  },
  {
   "cell_type": "code",
   "execution_count": 4,
   "metadata": {},
   "outputs": [],
   "source": [
    "badges = parse_badges(sc, path + 'Badges.xml')\n",
    "posts = parse_posts(sc, path + 'Posts.xml')\n",
    "comments = parse_comments(sc, path + 'Comments.xml')\n",
    "users = parse_users(sc, path + 'Users.xml')\n",
    "posthistory = parse_posthistory(sc, path + 'PostHistory.xml')\n",
    "postlinks = parse_postlinks(sc, path + 'PostLinks.xml')\n",
    "votes = parse_votes(sc, path + 'Votes.xml')"
   ]
  },
  {
   "cell_type": "code",
   "execution_count": 5,
   "metadata": {},
   "outputs": [
    {
     "name": "stdout",
     "output_type": "stream",
     "text": [
      "+-------+-----------------+--------------------+--------------------+\n",
      "|summary|           UserId|                Name|                Date|\n",
      "+-------+-----------------+--------------------+--------------------+\n",
      "|  count|            19587|               19587|               19587|\n",
      "|   mean|10619.38341757288|                null|                null|\n",
      "| stddev|6829.751794077075|                null|                null|\n",
      "|    min|              1.0|            Altruist|2016-08-02T15:38:...|\n",
      "|    max|          22810.0|reinforcement-lea...|2019-03-03T02:45:...|\n",
      "+-------+-----------------+--------------------+--------------------+\n",
      "\n"
     ]
    }
   ],
   "source": [
    "badges.describe().show()"
   ]
  },
  {
   "cell_type": "code",
   "execution_count": 6,
   "metadata": {},
   "outputs": [
    {
     "name": "stdout",
     "output_type": "stream",
     "text": [
      "+-------+-----------------+------------------+------------------+--------------------+--------------------+------+\n",
      "|summary|               Id|            PostId|             Score|                Text|        CreationDate|UserID|\n",
      "+-------+-----------------+------------------+------------------+--------------------+--------------------+------+\n",
      "|  count|             9722|              9722|              9722|                9722|                9722|     0|\n",
      "|   mean| 9168.57015017486|5912.5023657683605|0.3480765274634849|                null|                null|  null|\n",
      "| stddev|4531.902413616199|2836.5003640471705|0.7432519890956761|                null|                null|  null|\n",
      "|    min|              3.0|               1.0|               0.0|\" Fortunately, we...|2016-08-02T15:44:...|  null|\n",
      "|    max|          16566.0|           10968.0|              16.0|“But then with me...|2019-03-02T23:06:...|  null|\n",
      "+-------+-----------------+------------------+------------------+--------------------+--------------------+------+\n",
      "\n"
     ]
    }
   ],
   "source": [
    "comments.describe().show()"
   ]
  },
  {
   "cell_type": "code",
   "execution_count": 7,
   "metadata": {},
   "outputs": [
    {
     "name": "stdout",
     "output_type": "stream",
     "text": [
      "+-------+------------------+------------------+--------------------+-----------+--------------------+--------------------+-----------------+-----------+------------------+------------------+-------------------+---------+----+\n",
      "|summary|                Id|        Reputation|        CreationDate|DisplayName|      LastAccessDate|          WebsiteUrl|         Location|    AboutMe|             Views|           UpVotes|          DownVotes|EmailHash| Age|\n",
      "+-------+------------------+------------------+--------------------+-----------+--------------------+--------------------+-----------------+-----------+------------------+------------------+-------------------+---------+----+\n",
      "|  count|             20419|             20419|               20419|      20419|               20419|                4435|            10375|       7926|             20419|             20419|              20419|        0|   0|\n",
      "|   mean|11855.315049708604| 43.11053430628336|                null|        NaN|                null|                null|           5612.5|       null|0.6993486458690436|1.0109212008423527|0.17704099123365494|     null|null|\n",
      "| stddev|6465.1458942051095|118.41315907757212|                null|        NaN|                null|                null|7928.788337444757|       null|12.825629899402058| 21.57716003267184|  7.964434475570613|     null|null|\n",
      "|    min|              -1.0|               1.0|2016-08-02T00:14:...|     haegor|2016-08-02T00:14:...|                    |                 |           |               0.0|               0.0|                0.0|     null|null|\n",
      "|    max|           22819.0|            6003.0|2019-03-03T02:53:...|     정래혁|2019-03-03T02:53:...|https://zwliew.ne...|   대한민국 Seoul|ruby hacker|            1329.0|            2336.0|              924.0|     null|null|\n",
      "+-------+------------------+------------------+--------------------+-----------+--------------------+--------------------+-----------------+-----------+------------------+------------------+-------------------+---------+----+\n",
      "\n"
     ]
    }
   ],
   "source": [
    "users.describe().show()"
   ]
  },
  {
   "cell_type": "code",
   "execution_count": 8,
   "metadata": {},
   "outputs": [
    {
     "data": {
      "text/plain": [
       "[Row(Id=1.0, PostHistoryTypeId=2.0, PostId=1.0, RevisionGUID='acd11026-43b5-4640-a6dd-dfff1749f5b5', CreationDate='2016-08-02T15:39:14.947', UserId=8.0, UserDisplayName=None, Body=None, Comment=None, Text='What \"backprop\" does it mean? I\\'ve Googled it, but it\\'s showing backpropagation.\\r\\n\\r\\nIs \"backprop\" term is basically the same as backpropagation or it has a different meaning?', CloseReasonId=None)]"
      ]
     },
     "execution_count": 8,
     "metadata": {},
     "output_type": "execute_result"
    }
   ],
   "source": [
    "posthistory.take(1)"
   ]
  },
  {
   "cell_type": "code",
   "execution_count": 9,
   "metadata": {},
   "outputs": [
    {
     "name": "stdout",
     "output_type": "stream",
     "text": [
      "+-------+------------------+--------------------+------------------+------------------+--------------+\n",
      "|summary|                Id|        CreationDate|            PostId|     RelatedPostId|PostLinkTypeId|\n",
      "+-------+------------------+--------------------+------------------+------------------+--------------+\n",
      "|  count|               475|                 475|               475|               475|             0|\n",
      "|   mean| 53244.56210526316|                null|  5789.34947368421| 4172.305263157895|          null|\n",
      "| stddev|38291.787812747156|                null|3215.9652559378683|3005.1205170890617|          null|\n",
      "|    min|             103.0|2016-08-02T19:22:...|              37.0|              10.0|          null|\n",
      "|    max|          114055.0|2019-02-28T01:18:...|           10922.0|           10644.0|          null|\n",
      "+-------+------------------+--------------------+------------------+------------------+--------------+\n",
      "\n"
     ]
    }
   ],
   "source": [
    "postlinks.describe().show()"
   ]
  },
  {
   "cell_type": "code",
   "execution_count": 10,
   "metadata": {},
   "outputs": [
    {
     "name": "stdout",
     "output_type": "stream",
     "text": [
      "+-------+------------------+-----------------+------------------+--------------------+-----------------+-----------------+\n",
      "|summary|                Id|           PostId|        VoteTypeId|        CreationDate|           UserId|     BountyAmount|\n",
      "+-------+------------------+-----------------+------------------+--------------------+-----------------+-----------------+\n",
      "|  count|             31258|            31258|             31258|               31258|             2599|               75|\n",
      "|   mean|17737.286006782262|4716.302994433425|3.5600806193614436|                null|9492.641015775298|67.66666666666667|\n",
      "| stddev| 9638.090733972806|2957.759421723209| 3.742220256947708|                null|6627.252377994014|62.30013086909454|\n",
      "|    min|               1.0|              1.0|               1.0|2016-08-02T00:00:...|             -1.0|             25.0|\n",
      "|    max|           34329.0|          10973.0|              16.0|2019-03-02T00:00:...|          22782.0|            400.0|\n",
      "+-------+------------------+-----------------+------------------+--------------------+-----------------+-----------------+\n",
      "\n"
     ]
    }
   ],
   "source": [
    "votes.describe().show()"
   ]
  },
  {
   "cell_type": "code",
   "execution_count": null,
   "metadata": {},
   "outputs": [],
   "source": []
  }
 ],
 "metadata": {
  "kernelspec": {
   "display_name": "Python 3",
   "language": "python",
   "name": "python3"
  },
  "language_info": {
   "codemirror_mode": {
    "name": "ipython",
    "version": 3
   },
   "file_extension": ".py",
   "mimetype": "text/x-python",
   "name": "python",
   "nbconvert_exporter": "python",
   "pygments_lexer": "ipython3",
   "version": "3.7.1"
  }
 },
 "nbformat": 4,
 "nbformat_minor": 2
}
